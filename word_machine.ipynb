{
 "cells": [
  {
   "cell_type": "markdown",
   "metadata": {},
   "source": [
    "# Imports"
   ]
  },
  {
   "cell_type": "code",
   "execution_count": null,
   "metadata": {},
   "outputs": [],
   "source": [
    "import itertools\n",
    "from collections import Counter\n",
    "import string\n",
    "import numpy as np\n",
    "from tqdm.notebook  import tqdm\n",
    "import sys\n",
    "import time\n",
    "import re"
   ]
  },
  {
   "cell_type": "markdown",
   "metadata": {},
   "source": [
    "# Load text file"
   ]
  },
  {
   "cell_type": "code",
   "execution_count": null,
   "metadata": {},
   "outputs": [],
   "source": [
    "characters = set()\n",
    "words = []\n",
    "limit = int(1e6)\n",
    "\n",
    "text = open(\"list/games.txt\", \"rb\").read().decode(\"utf8\").lower()\n",
    "unprocessed_words = re.split(\"\\s\", text)[0:limit]\n",
    "for word in unprocessed_words:\n",
    "    if len(word) < 4:\n",
    "        continue\n",
    "    if any([i not in string.ascii_lowercase for i in word]):\n",
    "        continue\n",
    "    characters |= set(word)\n",
    "    words.append(word)\n",
    "\n",
    "characters = sorted(list(characters))\n",
    "print(f\"characters : {len(characters)}\")\n",
    "print(characters)\n",
    "print(f\"nb words : {len(words)}\")\n",
    "print(words[0:10])"
   ]
  },
  {
   "cell_type": "markdown",
   "metadata": {},
   "source": [
    "# N-grams"
   ]
  },
  {
   "cell_type": "code",
   "execution_count": null,
   "metadata": {},
   "outputs": [],
   "source": [
    "def n_grams(word, n):\n",
    "    return [word[i:i+n] for i in range(0, len(word) - n + 1)]\n",
    "n_grams(words[5], 3)"
   ]
  },
  {
   "cell_type": "markdown",
   "metadata": {},
   "source": [
    "# Probability tables"
   ]
  },
  {
   "cell_type": "code",
   "execution_count": null,
   "metadata": {},
   "outputs": [],
   "source": [
    "def create_probability_table(chain):\n",
    "    counter = Counter(chain)\n",
    "    p = np.zeros(len(counter.most_common(1)[0][0]) * [len(characters)])\n",
    "    for w in counter:\n",
    "        pos = tuple([characters.index(i) for i in w])\n",
    "        p[pos] = counter[w]\n",
    "    return p\n",
    "\n",
    "chain_s1 = itertools.chain(word[:1] for word in tqdm(words))\n",
    "chain_s2 = itertools.chain(word[:2] for word in tqdm(words))\n",
    "chain_s3 = itertools.chain(word[:3] for word in tqdm(words))\n",
    "chain_m4 = itertools.chain.from_iterable(n_grams(word, 4) for word in tqdm(words))\n",
    "chain_e3 = itertools.chain(word[-3:] for word in tqdm(words))\n",
    "chain_e2 = itertools.chain(word[-2:] for word in tqdm(words))\n",
    "\n",
    "ps1 = create_probability_table(chain_s1)\n",
    "ps2 = create_probability_table(chain_s2)\n",
    "ps3 = create_probability_table(chain_s3)\n",
    "pm4 = create_probability_table(chain_m4)\n",
    "pe3 = create_probability_table(chain_e3)\n",
    "pe2 = create_probability_table(chain_e2)"
   ]
  },
  {
   "cell_type": "code",
   "execution_count": null,
   "metadata": {},
   "outputs": [],
   "source": [
    "def print_stats(p):\n",
    "    a = p.reshape(-1)\n",
    "    print(f\"{np.sum(a!=0)}/{a.shape[0]}\")\n",
    "    \n",
    "print_stats(ps1)\n",
    "print_stats(ps2)\n",
    "print_stats(ps3)\n",
    "print_stats(pm4)\n",
    "print_stats(pe3)\n",
    "print_stats(pe2)"
   ]
  },
  {
   "cell_type": "markdown",
   "metadata": {},
   "source": [
    "# Generative model"
   ]
  },
  {
   "cell_type": "code",
   "execution_count": null,
   "metadata": {},
   "outputs": [],
   "source": [
    "def generate(n, s=\"\", laplace=1e-1):\n",
    "    s = s.lower()\n",
    "    for i in range(n):\n",
    "        # get the previous characters indices\n",
    "        if len(s) >= 1:\n",
    "            n_minus_1 = characters.index(s[len(s)-1])\n",
    "        if len(s) >= 2:\n",
    "            n_minus_2 = characters.index(s[len(s)-2])\n",
    "        if len(s) >= 2:\n",
    "            n_minus_3 = characters.index(s[len(s)-3])\n",
    "        \n",
    "        # select the probability table\n",
    "        \n",
    "        # begining of the word\n",
    "        if len(s) <= 0:\n",
    "            p = ps1\n",
    "        elif len(s) <= 1:\n",
    "            p = ps2[n_minus_1, :]\n",
    "        elif len(s) <= 2:\n",
    "            p = ps3[n_minus_2, n_minus_1, :]\n",
    "        # end of the word\n",
    "        elif len(s) >= n - 1:\n",
    "            p = pe2[n_minus_1, :]\n",
    "        elif len(s) >= n - 2:\n",
    "            p = pe3[n_minus_2, n_minus_1, :]\n",
    "        # middle of the word\n",
    "        else:\n",
    "            p = pm4[n_minus_3, n_minus_2, n_minus_1, :]\n",
    "\n",
    "        # laplace smoothing\n",
    "        p = p.copy()\n",
    "        p += laplace\n",
    "        for i in range(10):\n",
    "            p = p / p.sum()\n",
    "        \n",
    "        # select the next character\n",
    "        s += np.random.choice(characters, p=p)\n",
    "    return s"
   ]
  },
  {
   "cell_type": "code",
   "execution_count": null,
   "metadata": {},
   "outputs": [],
   "source": [
    "def compute_probability(w):\n",
    "    def prob(p, c, laplace=1e-1):\n",
    "        sum_ = p.sum() + laplace\n",
    "        qte = p[c] + len(p.reshape(-1)) * laplace\n",
    "        return np.log(qte / sum_)\n",
    "    \n",
    "    p = 0\n",
    "    \n",
    "    characters_indices = [characters.index(wi) for wi in w]\n",
    "    \n",
    "    # start letters probability\n",
    "    if len(characters_indices) > 0:\n",
    "        p += prob(ps1, (characters_indices[0],))\n",
    "    \n",
    "    if len(characters_indices) > 1:\n",
    "        p += prob(ps2, (characters_indices[0], characters_indices[1]))\n",
    "        \n",
    "    if len(characters_indices) > 2:\n",
    "        p += prob(ps3, (characters_indices[0], characters_indices[1], characters_indices[2]))\n",
    "        \n",
    "    # end letters probability\n",
    "    if len(characters_indices) > 1:\n",
    "        p += prob(pe2, (characters_indices[-2], characters_indices[-1],))\n",
    "    \n",
    "    if len(characters_indices) > 2:\n",
    "        p += prob(pe3, (characters_indices[-3], characters_indices[-2], characters_indices[-1],))\n",
    "        \n",
    "    # in-between probability\n",
    "    if len(characters_indices) > 3:\n",
    "        for ch in [tuple(characters_indices[i:i+4]) for i in range(len(characters_indices)-3)]:\n",
    "            p += prob(pm4, ch)\n",
    "        \n",
    "    return p"
   ]
  },
  {
   "cell_type": "markdown",
   "metadata": {},
   "source": [
    "# Use cases"
   ]
  },
  {
   "cell_type": "markdown",
   "metadata": {},
   "source": [
    "## Generate words based on this word list"
   ]
  },
  {
   "cell_type": "code",
   "execution_count": null,
   "metadata": {
    "scrolled": true
   },
   "outputs": [],
   "source": [
    "for i in range(20):\n",
    "    print(generate(int(np.random.randint(4, 15))))"
   ]
  },
  {
   "cell_type": "markdown",
   "metadata": {},
   "source": [
    "## Generate words starting by x"
   ]
  },
  {
   "cell_type": "code",
   "execution_count": null,
   "metadata": {},
   "outputs": [],
   "source": [
    "for i in range(20):\n",
    "    print(generate(2, \"zeph\").title())"
   ]
  },
  {
   "cell_type": "markdown",
   "metadata": {},
   "source": [
    "## Find anagram of a word and sort them by their probability of occuring in the language"
   ]
  },
  {
   "cell_type": "code",
   "execution_count": null,
   "metadata": {},
   "outputs": [],
   "source": [
    "word = \"raphael\"\n",
    "perms = set(\"\".join(ws) for ws in itertools.permutations(word, len(word)))\n",
    "probabilities = [(p, compute_probability(p)) for p in tqdm(perms)]\n",
    "probabilities.sort(key=lambda x: -x[-1])\n",
    "for p in probabilities[0:20]:\n",
    "    print(p[0])"
   ]
  },
  {
   "cell_type": "markdown",
   "metadata": {},
   "source": [
    "## Generate a lot of words in a file"
   ]
  },
  {
   "cell_type": "code",
   "execution_count": null,
   "metadata": {},
   "outputs": [],
   "source": [
    "ws = [generate(8) for w in tqdm(range(10000))]\n",
    "open(\"generated/words.txt\", \"w\").write(\"\\r\\n\".join(ws))"
   ]
  }
 ],
 "metadata": {
  "kernelspec": {
   "display_name": "Python 3",
   "language": "python",
   "name": "python3"
  },
  "language_info": {
   "codemirror_mode": {
    "name": "ipython",
    "version": 3
   },
   "file_extension": ".py",
   "mimetype": "text/x-python",
   "name": "python",
   "nbconvert_exporter": "python",
   "pygments_lexer": "ipython3",
   "version": "3.8.10"
  }
 },
 "nbformat": 4,
 "nbformat_minor": 5
}
