{
 "cells": [
  {
   "cell_type": "markdown",
   "id": "d6158b05",
   "metadata": {},
   "source": [
    "# Imports"
   ]
  },
  {
   "cell_type": "code",
   "execution_count": 1,
   "id": "c8e0f473",
   "metadata": {},
   "outputs": [],
   "source": [
    "import itertools\n",
    "from collections import Counter\n",
    "import string\n",
    "import numpy as np\n",
    "from tqdm.notebook  import tqdm"
   ]
  },
  {
   "cell_type": "markdown",
   "id": "eb485ff0",
   "metadata": {},
   "source": [
    "# Load text file"
   ]
  },
  {
   "cell_type": "code",
   "execution_count": 5,
   "id": "aa327e2c",
   "metadata": {},
   "outputs": [
    {
     "data": {
      "application/vnd.jupyter.widget-view+json": {
       "model_id": "15e92c2ad97045ffb8251428628aa00b",
       "version_major": 2,
       "version_minor": 0
      },
      "text/plain": [
       "0it [00:00, ?it/s]"
      ]
     },
     "metadata": {},
     "output_type": "display_data"
    },
    {
     "name": "stdout",
     "output_type": "stream",
     "text": [
      "characters : 41\n",
      "['-', 'a', 'b', 'c', 'd', 'e', 'f', 'g', 'h', 'i', 'j', 'k', 'l', 'm', 'n', 'o', 'p', 'q', 'r', 's', 't', 'u', 'v', 'w', 'x', 'y', 'z', 'à', 'â', 'ä', 'ç', 'è', 'é', 'ê', 'ë', 'î', 'ï', 'ô', 'ö', 'û', 'ü']\n",
      "nb words : 335968\n",
      "['abaissa', 'abaissable', 'abaissables', 'abaissai', 'abaissaient', 'abaissais', 'abaissait', 'abaissâmes', 'abaissant', 'abaissante']\n"
     ]
    }
   ],
   "source": [
    "characters = set()\n",
    "words = []\n",
    "limit = int(1e6)\n",
    "\n",
    "with open(\"list/words_fr.txt\", \"rb\") as text:\n",
    "    for line in tqdm(itertools.islice(text, limit)):\n",
    "        line = line.decode(\"utf8\").lower().replace(\"\\n\", \"\")\n",
    "        if len(line) < 4:\n",
    "            continue\n",
    "#         if any([i not in string.ascii_lowercase for i in line]):\n",
    "#             continue\n",
    "        characters |= set(line)\n",
    "        words.append(line)\n",
    "\n",
    "characters = sorted(list(characters))\n",
    "print(f\"characters : {len(characters)}\")\n",
    "print(characters)\n",
    "print(f\"nb words : {len(words)}\")\n",
    "print(words[0:10])"
   ]
  },
  {
   "cell_type": "markdown",
   "id": "d594c355",
   "metadata": {},
   "source": [
    "# N-grams"
   ]
  },
  {
   "cell_type": "code",
   "execution_count": 6,
   "id": "cd397110",
   "metadata": {},
   "outputs": [
    {
     "data": {
      "text/plain": [
       "['aba', 'bai', 'ais', 'iss', 'ssa', 'sai', 'ais']"
      ]
     },
     "execution_count": 6,
     "metadata": {},
     "output_type": "execute_result"
    }
   ],
   "source": [
    "def n_grams(word, n):\n",
    "    return [word[i:i+n] for i in range(0, len(word) - n + 1)]\n",
    "n_grams(words[5], 3)"
   ]
  },
  {
   "cell_type": "markdown",
   "id": "d3717d07",
   "metadata": {},
   "source": [
    "# Probability tables"
   ]
  },
  {
   "cell_type": "code",
   "execution_count": 57,
   "id": "340d4853",
   "metadata": {},
   "outputs": [
    {
     "data": {
      "application/vnd.jupyter.widget-view+json": {
       "model_id": "17612ed73db94cf79cc625e9b410953e",
       "version_major": 2,
       "version_minor": 0
      },
      "text/plain": [
       "  0%|          | 0/335968 [00:00<?, ?it/s]"
      ]
     },
     "metadata": {},
     "output_type": "display_data"
    },
    {
     "data": {
      "application/vnd.jupyter.widget-view+json": {
       "model_id": "f0623ee124824e2491e20b3ca923c68c",
       "version_major": 2,
       "version_minor": 0
      },
      "text/plain": [
       "  0%|          | 0/335968 [00:00<?, ?it/s]"
      ]
     },
     "metadata": {},
     "output_type": "display_data"
    },
    {
     "data": {
      "application/vnd.jupyter.widget-view+json": {
       "model_id": "369e6989393d436c9d0cb1e4efa73407",
       "version_major": 2,
       "version_minor": 0
      },
      "text/plain": [
       "  0%|          | 0/335968 [00:00<?, ?it/s]"
      ]
     },
     "metadata": {},
     "output_type": "display_data"
    },
    {
     "data": {
      "application/vnd.jupyter.widget-view+json": {
       "model_id": "d161c370098140119d875a8131b0fa02",
       "version_major": 2,
       "version_minor": 0
      },
      "text/plain": [
       "  0%|          | 0/335968 [00:00<?, ?it/s]"
      ]
     },
     "metadata": {},
     "output_type": "display_data"
    },
    {
     "data": {
      "application/vnd.jupyter.widget-view+json": {
       "model_id": "e1825ee2aa9d4f1ea9c54a68211c63ef",
       "version_major": 2,
       "version_minor": 0
      },
      "text/plain": [
       "  0%|          | 0/335968 [00:00<?, ?it/s]"
      ]
     },
     "metadata": {},
     "output_type": "display_data"
    },
    {
     "data": {
      "application/vnd.jupyter.widget-view+json": {
       "model_id": "640a9fc3e878406ab71eef4a9e65f079",
       "version_major": 2,
       "version_minor": 0
      },
      "text/plain": [
       "  0%|          | 0/335968 [00:00<?, ?it/s]"
      ]
     },
     "metadata": {},
     "output_type": "display_data"
    },
    {
     "name": "stdout",
     "output_type": "stream",
     "text": [
      "(41,)\n",
      "(41, 41)\n",
      "(41, 41, 41)\n",
      "(41, 41, 41, 41)\n",
      "(41, 41, 41)\n",
      "(41, 41)\n"
     ]
    }
   ],
   "source": [
    "def create_probability_table(chain):\n",
    "    counter = Counter(chain)\n",
    "    p = np.zeros(len(counter.most_common(1)[0][0]) * [len(characters)])\n",
    "    for w in counter:\n",
    "        pos = tuple([characters.index(i) for i in w])\n",
    "        p[pos] = counter[w]\n",
    "    return p\n",
    "\n",
    "chain_s1 = itertools.chain(word[:1] for word in tqdm(words))\n",
    "chain_s2 = itertools.chain(word[:2] for word in tqdm(words))\n",
    "chain_s3 = itertools.chain(word[:3] for word in tqdm(words))\n",
    "chain_m4 = itertools.chain.from_iterable(n_grams(word, 4) for word in tqdm(words))\n",
    "chain_e3 = itertools.chain(word[-3:] for word in tqdm(words))\n",
    "chain_e2 = itertools.chain(word[-2:] for word in tqdm(words))\n",
    "\n",
    "ps1 = create_probability_table(chain_s1)\n",
    "ps2 = create_probability_table(chain_s2)\n",
    "ps3 = create_probability_table(chain_s3)\n",
    "pm4 = create_probability_table(chain_m4)\n",
    "pe3 = create_probability_table(chain_e3)\n",
    "pe2 = create_probability_table(chain_e2)"
   ]
  },
  {
   "cell_type": "markdown",
   "id": "96d8170d",
   "metadata": {},
   "source": [
    "# Generative model"
   ]
  },
  {
   "cell_type": "code",
   "execution_count": 116,
   "id": "84048fc6",
   "metadata": {},
   "outputs": [],
   "source": [
    "def generate(n, s=\"\", laplace=1e-1):\n",
    "    s = s.lower()\n",
    "    for i in range(n):\n",
    "        # get the previous characters indices\n",
    "        if len(s) >= 1:\n",
    "            n_minus_1 = characters.index(s[len(s)-1])\n",
    "        if len(s) >= 2:\n",
    "            n_minus_2 = characters.index(s[len(s)-2])\n",
    "        if len(s) >= 2:\n",
    "            n_minus_3 = characters.index(s[len(s)-3])\n",
    "        \n",
    "        # select the probability table\n",
    "        \n",
    "        # begining of the word\n",
    "        if len(s) <= 0:\n",
    "            p = ps1\n",
    "        elif len(s) <= 1:\n",
    "            p = ps2[n_minus_1, :]\n",
    "        elif len(s) <= 2:\n",
    "            p = ps3[n_minus_2, n_minus_1, :]\n",
    "        # end of the word\n",
    "        elif len(s) >= n - 1:\n",
    "            p = pe2[n_minus_1, :]\n",
    "        elif len(s) >= n - 2:\n",
    "            p = pe3[n_minus_2, n_minus_1, :]\n",
    "        # middle of the word\n",
    "        else:\n",
    "            p = pm4[n_minus_3, n_minus_2, n_minus_1, :]\n",
    "\n",
    "        # laplace smoothing\n",
    "        p += laplace\n",
    "        for i in range(10):\n",
    "            p = p / p.sum()\n",
    "        \n",
    "        # select the next character\n",
    "        s += np.random.choice(characters, p=p)\n",
    "    return s"
   ]
  },
  {
   "cell_type": "markdown",
   "id": "9fb9ee81",
   "metadata": {},
   "source": [
    "# Use cases"
   ]
  },
  {
   "cell_type": "code",
   "execution_count": 122,
   "id": "33d999d0",
   "metadata": {
    "scrolled": true
   },
   "outputs": [
    {
     "name": "stdout",
     "output_type": "stream",
     "text": [
      "érez\n",
      "écur\n",
      "quaitèresses\n",
      "étantsiassesse\n",
      "gara\n",
      "prisâmestîmese\n",
      "étêtés-joira\n",
      "démont\n",
      "radsa\n",
      "resthérèrer\n",
      "exploisés\n",
      "séchse\n",
      "détonnesczu\n",
      "bara\n",
      "friseras\n",
      "maillerase\n",
      "défristrese\n",
      "figues\n",
      "énoponnéessase\n",
      "amoisaisas\n"
     ]
    }
   ],
   "source": [
    "for i in range(20):\n",
    "    print(generate(int(np.random.randint(4, 15))))"
   ]
  },
  {
   "cell_type": "code",
   "execution_count": 125,
   "id": "b8366596",
   "metadata": {},
   "outputs": [
    {
     "name": "stdout",
     "output_type": "stream",
     "text": [
      "Cylerai\n",
      "Cyasera\n",
      "Cycpers\n",
      "Cyasese\n",
      "Cyaises\n",
      "Cylseza\n",
      "Cycites\n",
      "Cypéese\n",
      "Cylasez\n",
      "Cyaseas\n",
      "Cysease\n",
      "Cycömba\n",
      "Cycàces\n",
      "Cycfezq\n",
      "Cycbase\n",
      "Cyaises\n",
      "Cynesez\n",
      "Cynezes\n",
      "Cygeses\n",
      "Cycàvez\n"
     ]
    }
   ],
   "source": [
    "for i in range(20):\n",
    "    print(generate(5, \"cy\").title())"
   ]
  },
  {
   "cell_type": "code",
   "execution_count": null,
   "id": "1b0349db",
   "metadata": {},
   "outputs": [],
   "source": []
  },
  {
   "cell_type": "code",
   "execution_count": null,
   "id": "59061170",
   "metadata": {},
   "outputs": [],
   "source": []
  }
 ],
 "metadata": {
  "kernelspec": {
   "display_name": "Python 3",
   "language": "python",
   "name": "python3"
  },
  "language_info": {
   "codemirror_mode": {
    "name": "ipython",
    "version": 3
   },
   "file_extension": ".py",
   "mimetype": "text/x-python",
   "name": "python",
   "nbconvert_exporter": "python",
   "pygments_lexer": "ipython3",
   "version": "3.8.8"
  }
 },
 "nbformat": 4,
 "nbformat_minor": 5
}
